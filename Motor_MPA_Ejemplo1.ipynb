{
 "cells": [
  {
   "cell_type": "markdown",
   "id": "unauthorized-collar",
   "metadata": {},
   "source": [
    "# Programa para calcular difusión, con malla triangular\n",
    "\n",
    "## Queremos calcular la difusión evaluando la siguiente ecuación:\n",
    "### $$u_i^{n+1}= u_1^n - \\frac{dt}{Area_i}\\sum D_f \\frac{u_j -u_i}{\\delta_f} - \\frac{dt}{Area_i}\\sum D_B \\frac{u_B -u_i}{\\delta_B}  $$\n"
   ]
  },
  {
   "cell_type": "code",
   "execution_count": 1,
   "id": "alike-butter",
   "metadata": {},
   "outputs": [],
   "source": [
    "import numpy as np\n",
    "import openmesh as om\n",
    "import pandas as pd\n",
    "import matplotlib.pyplot as plt\n",
    "import matplotlib.ticker as ticker \n",
    "import seaborn as sns  #graficar datos de pandas\n",
    "from pylab import savefig\n",
    "\n",
    "import sys\n",
    "from scipy.spatial import Delaunay\n",
    "import matplotlib.pyplot as plt\n"
   ]
  },
  {
   "cell_type": "markdown",
   "id": "sexual-surname",
   "metadata": {},
   "source": [
    "##  Creamos la malla:\n"
   ]
  },
  {
   "cell_type": "code",
   "execution_count": 2,
   "id": "decreased-conviction",
   "metadata": {},
   "outputs": [
    {
     "data": {
      "image/png": "[encoded data removed]",
      "text/plain": [
       "<Figure size 432x288 with 1 Axes>"
      ]
     },
     "metadata": {
      "needs_background": "light"
     },
     "output_type": "display_data"
    },
    {
     "name": "stdout",
     "output_type": "stream",
     "text": [
      "Malla automática\n"
     ]
    }
   ],
   "source": [
    "def save_mesh(P, T, filename):\n",
    "    mesh = om.TriMesh()\n",
    "    \n",
    "    filename2 = filename[0:-4]+'_2.off'\n",
    "    \n",
    "    print('Malla automática')\n",
    "    sys.stdout = open(filename2, 'w')\n",
    "    \n",
    "    print(len(P), len(T.simplices), 0)\n",
    "    \n",
    "    k=0\n",
    "    vh=[]\n",
    "    #Generar vertices\n",
    "    for p in P:\n",
    "        k=k+1; \n",
    "        print('%.2f' % p[0] ,'%.2f' % p[1], 0)    \n",
    "        vh.append(mesh.add_vertex([p[0], p[1], 0]))\n",
    "    \n",
    "    k=0\n",
    "    #Generar celdas\n",
    "    for t in T.simplices:\n",
    "        k=k+1\n",
    "        print(3,' ',t[0], t[1], t[2])\n",
    "        mesh.add_face(vh[t[0]],vh[t[1]],vh[t[2]])\n",
    "\n",
    "    om.write_mesh(filename, mesh)\n",
    "    \n",
    "\n",
    "#Parámetros de la malla    \n",
    "X = np.arange(0,7,2)\n",
    "Y = np.arange(0,7,2)\n",
    "\n",
    "\n",
    "P = np.array([[x,y] for y in Y for x in X])\n",
    "T = Delaunay(P)\n",
    "plt.triplot(P[:,0],P[:,1],T.simplices)\n",
    "\n",
    "\n",
    "save_mesh(P, T, 'MallaAuto.off')\n",
    "\n",
    "mesh = om.read_trimesh('MallaAuto.off')\n",
    "\n",
    "plt.show()\n"
   ]
  },
  {
   "cell_type": "markdown",
   "id": "dynamic-spiritual",
   "metadata": {},
   "source": [
    "## Datos relevantes:\n",
    "### - Indice\n",
    "### - Celdas vecinas\n",
    "### - Lados correspondientes"
   ]
  },
  {
   "cell_type": "code",
   "execution_count": 3,
   "id": "rolled-hudson",
   "metadata": {},
   "outputs": [],
   "source": [
    "#Vertices correspondientes a cada celda\n",
    "for vh in mesh.vertices():    \n",
    "    v = mesh.point(vh)\n",
    "    #print(v)\n",
    "\n",
    "#Número de interfaces (lados)\n",
    "Int = 0\n",
    "for eh in mesh.edges(): #eh = interfaces\n",
    "    Int = Int + 1  \n",
    "\n",
    "#print('La cantidad de interfaces es:',Int)\n",
    "\n",
    "#Información por cada celda\n",
    "for fh in mesh.faces():  \n",
    "    index = fh.idx() \n",
    "    #print(\"Cara: \",index)\n",
    "    \n",
    "    #Recorrer los vertices de cada cara y mostrar sus indices\n",
    "    for vh in mesh.fv(fh):\n",
    "        indx = vh.idx() \n",
    "        #print(indx)\n",
    "    #Mostrar las celdas vecinas    \n",
    "    for fh in mesh.ff(fh):\n",
    "        VCel = fh.idx() \n",
    "        #print(VCel)\n",
    "    #mostrar los lados correspondientes a cada celda    \n",
    "    for eh in mesh.fe(fh):\n",
    "        Lad = eh.idx()\n",
    "        #print('Lados',Lad)\n",
    "\n",
    "        \n",
    "print('El numero de caras es: ', index +1) "
   ]
  },
  {
   "cell_type": "markdown",
   "id": "banned-guess",
   "metadata": {},
   "source": [
    "## Generar arreglos vacios para utilizarlos posteriormente"
   ]
  },
  {
   "cell_type": "code",
   "execution_count": 4,
   "id": "hundred-significance",
   "metadata": {},
   "outputs": [],
   "source": [
    "#longitud de los lados\n",
    "Longitud = np.zeros(Int)\n",
    "\n",
    "#Áreas de las celdas\n",
    "Area = []\n",
    "\n",
    "#Centros de cada lado (Coordenada horizontal y vertical)\n",
    "Centrox  = np.zeros(Int)\n",
    "Centroy  = np.zeros(Int)\n",
    "\n",
    "#Baricentros de las celdas (Coordenada horizontal y vertical) \n",
    "BariX = []\n",
    "BariY = []\n",
    "\n",
    "#Normales (Coordenada horizontal y vertical) \n",
    "NormalX = []\n",
    "NormalY = []\n",
    "\n",
    "#Distancia centro de las celda a centro de los lados\n",
    "DCenLad = []\n",
    "\n",
    "#Distancia nodos a centro de las celdas\n",
    "DNodoCel = np.zeros((index-1,index+1))\n",
    "\n",
    "#Relacion celda y sus bordes\n",
    "CelBord = np.zeros((index +1,3))\n",
    "\n",
    "#Relacion celda a celdas vecinas\n",
    "CelCels = np.zeros((index +1,3))\n",
    "\n",
    "#Relacion celda vertices\n",
    "CelVer = np.zeros((index +1,3))\n",
    "\n",
    "#Sumatoria de los inversos de las distancias nodo - centro (parte del método de volumenes finitos)\n",
    "Suminv = []"
   ]
  },
  {
   "cell_type": "markdown",
   "id": "stupid-taxation",
   "metadata": {},
   "source": [
    "## Cálculos de:\n",
    "- Longitud\n",
    "- Área\n",
    "- Distancia"
   ]
  },
  {
   "cell_type": "code",
   "execution_count": 5,
   "id": "prerequisite-virgin",
   "metadata": {},
   "outputs": [],
   "source": [
    "#fh para Recorrer todas las celdas\n",
    "for fh in mesh.faces():\n",
    "    VCel = fh.idx()\n",
    "\n",
    "    #Arreglos para guardas las coordenas x,y de los vertices\n",
    "    VeX = [] \n",
    "    VeY = [] \n",
    "    \n",
    "    #dentro de cada celda recorrer los vertices\n",
    "    for vh in mesh.fv(fh):\n",
    "        P = mesh.point(vh)\n",
    "        XX = P[0] \n",
    "        YY = P[1]\n",
    "        VeX.append(XX)\n",
    "        VeY.append(YY)       \n",
    "\n",
    "       \n",
    "    #baricentro de cada celda\n",
    "    baX = sum(VeX)/3\n",
    "    baY = sum(VeY)/3\n",
    "    \n",
    "    #Guardar baricentros en el arreglo\n",
    "    BariX.append(baX)\n",
    "    BariY.append(baY)\n",
    "\n",
    "    #área de las celdas\n",
    "    Area_i = VeX[0] * (VeY[2] - VeY[1]) + VeX[1] * (VeY[0] - VeY[2]) + VeX[2] * (VeY[1] - VeY[0])\n",
    "    Area_i = 0.5 * np.absolute(Area_i)\n",
    "    \n",
    "    #guardar áreas en el arreglo\n",
    "    Area.append(Area_i)\n",
    "\n",
    "    #Arreglo para el cálculo distancia centro celda - centro lado\n",
    "    DistCelLad = []\n",
    "\n",
    "    #contador auxiliar (lados)\n",
    "    Cont = 0\n",
    "\n",
    "    #arreglo para guardar normales\n",
    "    xNormal = []\n",
    "    yNormal = []\n",
    "\n",
    "    #dentro de cada celda recorrer los lados\n",
    "    for eh in mesh.fe(fh):\n",
    "        #calcular longitud de los lados\n",
    "        Lad = eh.idx()\n",
    "        LX = VeX[Cont -1] - VeX[Cont]\n",
    "        LY = VeY[Cont -1] - VeY[Cont]\n",
    "\n",
    "        #punto medio de cada lado (coordenada x e y)\n",
    "        MedX = (VeX[Cont - 1] + VeX[Cont])*0.5\n",
    "        MedY = (VeY[Cont - 1] + VeY[Cont])*0.5\n",
    "        \n",
    "        #arreglo para guardar los puntos medios\n",
    "        Centrox[Lad] = MedX\n",
    "        Centroy[Lad] = MedY\n",
    "        \n",
    "        #longitud de los segmentos (fórmula de distancia)\n",
    "        distancia = np.sqrt(pow(LX,2) + pow(LY,2))\n",
    "        Longitud[Lad] = distancia \n",
    "\n",
    "        #distancia baricentro a centro de los segmento (lados)\n",
    "        dbsX = BariX[VCel] - MedX\n",
    "        dbsY = BariY[VCel] - MedY\n",
    "        distanciaBS = np.sqrt(pow(dbsX,2) + pow(dbsY,2))\n",
    "\n",
    "        DistCelLad.append(distanciaBS)\n",
    "\n",
    "        #tangente unitaria\n",
    "        tx = -LX / distancia\n",
    "        ty = -LY / distancia\n",
    "        \n",
    "        # normal unitaria\n",
    "        xNormal.append(ty)\n",
    "        yNormal.append(-tx)\n",
    "        \n",
    "        Cont = Cont + 1\n",
    "    \n",
    "\n",
    "    #agregar al arreglo las 3 normales de cada celda\n",
    "    NormalX.append(xNormal)\n",
    "    NormalY.append(yNormal)\n",
    "\n",
    "    #agregar al arreglo la distancia de centro a centro\n",
    "    DCenLad.append(DistCelLad)\n",
    "\n",
    "#obtenemos los maximos y los minimos de los centros de los bordes, util para determinar si se trata de un borde frontera\n",
    "MinX = np.amin(Centrox)\n",
    "MinY = np.amin(Centroy)\n",
    "MaxX = np.amax(Centrox)\n",
    "MaxY = np.amax(Centroy)"
   ]
  },
  {
   "cell_type": "markdown",
   "id": "local-marketing",
   "metadata": {},
   "source": [
    "## Agregar vector tiempo"
   ]
  },
  {
   "cell_type": "code",
   "execution_count": 6,
   "id": "pharmaceutical-attack",
   "metadata": {},
   "outputs": [],
   "source": [
    "# tamaño del vector de tiempo\n",
    "Tiemp = 25\n",
    "\n",
    "# Arreglo de tiempo\n",
    "Time = np.linspace(0,Tiemp,1)\n",
    "\n",
    "dt = 1 / Tiemp"
   ]
  },
  {
   "cell_type": "markdown",
   "id": "miniature-ceremony",
   "metadata": {},
   "source": [
    "## Información de conectividad\n",
    "### Información sobre lados-frontera"
   ]
  },
  {
   "cell_type": "code",
   "execution_count": 7,
   "id": "simplified-commerce",
   "metadata": {},
   "outputs": [],
   "source": [
    "#arreglo para los lados\n",
    "InLad = np.zeros(Int)\n",
    "\n",
    "for eh in mesh.edges(): \n",
    "    Lad = eh.idx()\n",
    "    InLad[Lad] = Lad\n",
    "    \n",
    "    \n",
    "# auxiliar que guarda si un lado corresponde a una frontera del dominio\n",
    "AuxLad = np.zeros(Int)\n",
    "\n",
    "#Recorrer las celdas \n",
    "for fh in mesh.faces():\n",
    "    VCel = fh.idx()\n",
    "    #auciliar para las celdas\n",
    "    ACel = []\n",
    "    #auxiliar para fronteras\n",
    "    Fronter = []\n",
    "    \n",
    "    \n",
    "    index = 0\n",
    "    \n",
    "    #recorrer los bordes para verificar si corresponden a fronteras\n",
    "    for eh in mesh.fe(fh): \n",
    "        Lad = eh.idx()\n",
    "        valueX = Centrox[Lad]\n",
    "        valueY = Centroy[Lad]\n",
    "        CelBord[VCel, index] = Lad\n",
    "\n",
    "        if valueX == MaxX or valueX == MinX or valueY == MaxY or valueY == MinY:\n",
    "            #evaluo la condicion de frontera\n",
    "            Fronter.append(1)\n",
    "            AuxLad[Lad] = 1\n",
    "        else:\n",
    "            Fronter.append(0)\n",
    "            AuxLad[Lad] = 0\n",
    "        index = index + 1\n",
    "        \n",
    "    #Ver relacion entre una celda y sus bordes   \n",
    "    #print(VCel, Fronter)  \n",
    "    \n",
    "\n",
    "    for fh in mesh.ff(fh):\n",
    "        VCel_v = fh.idx()\n",
    "        ACel.append(VCel_v)\n",
    "    \n",
    "    #Arreglo de celdas y sus vecinos\n",
    "    index = 0\n",
    "    \n",
    "    #recorrer el auxiliar\n",
    "    Audx = 0 \n",
    "    for value in Fronter:  \n",
    "        if value == 1:\n",
    "            aux = int(-1)\n",
    "            CelCels[VCel, index] = aux\n",
    "        else:\n",
    "            CelCels[VCel, index] = ACel[Audx]\n",
    "            Audx = Audx + 1\n",
    "        index = index + 1\n",
    "    \n",
    "    # OBTENEMOS LA MATRIZ DE LINK DE LA CELDA CON SUS VERTICES\n",
    "    index = 0\n",
    "    for vh in mesh.fv(fh):\n",
    "        Celve = vh.idx()\n",
    "        CelVer[VCel,index] = Celve\n",
    "        index = index + 1\n",
    "      \n",
    "\n",
    "    \n",
    "#lados frontera\n",
    "#print(AuxLad) "
   ]
  },
  {
   "cell_type": "markdown",
   "id": "desirable-marine",
   "metadata": {},
   "source": [
    "## Ingresar condiciones iniciales: \n"
   ]
  },
  {
   "cell_type": "code",
   "execution_count": 8,
   "id": "proper-coordinate",
   "metadata": {},
   "outputs": [],
   "source": [
    "#contentracion inicial por cada celda\n",
    "Ui = [24,30,25,35,37,42,29,36,33,28,31,29, 30, 12, 17, 14, 10, 19]\n",
    "\n",
    "#evolucion en el tiempo\n",
    "HT = []\n",
    "HT.append(Ui)\n",
    "\n",
    "#concentracion en el borde (debe ser constante)\n",
    "UF = 1\n",
    "\n",
    "#Difusión\n",
    "Difu = 1"
   ]
  },
  {
   "cell_type": "markdown",
   "id": "actual-weekly",
   "metadata": {},
   "source": [
    "## Ecuación "
   ]
  },
  {
   "cell_type": "code",
   "execution_count": 9,
   "id": "perfect-atlanta",
   "metadata": {},
   "outputs": [],
   "source": [
    "for t in range(Tiemp):\n",
    "    \n",
    "    #Crear auxiliar para la concentración\n",
    "    Concentr = []\n",
    "\n",
    "    for fh in mesh.faces():\n",
    "        \n",
    "        VCel = fh.idx()\n",
    "\n",
    "        #Arreglo que almacena los flujos de cada celda\n",
    "        Flu = []\n",
    "\n",
    "        #recorrer los lados (3)\n",
    "        for i in range(3): \n",
    "            \n",
    "            #Indice del lado y de la celda vecina\n",
    "            Lad = int(CelBord[VCel, i])\n",
    "            VCel_v = int(CelCels[VCel, i])\n",
    "            \n",
    "            #Indices de los vertices\n",
    "            a = VeX[i]\n",
    "            b = VeY[i-1]\n",
    "            \n",
    "            \n",
    "            #Verificar si el lado de la celda corresponde a una frontera del dominio\n",
    "            if VCel_v == -1:\n",
    "               \n",
    "                #Distancia entre el baricentro y el centro del borde de frontera\n",
    "                LX = BariX[VCel] - Centrox[Lad]\n",
    "                LY = BariY[VCel] - Centroy[Lad]\n",
    "                BaBoDist = np.sqrt(pow(LX,2) + pow(LY,2))\n",
    "                \n",
    "                # Calculo el flujo\n",
    "                Flujo = ((UF - Ui[VCel]) / BaBoDist) * Longitud[Lad] * Difu\n",
    "                Flu.append(Flujo)\n",
    "\n",
    "            else:\n",
    "                #Distancia entre los baricentros\n",
    "                v = BariX[VCel] - BariX[VCel_v]\n",
    "                LY = BariY[VCel] - BariY[VCel_v]       \n",
    "                BaBoDist = np.sqrt(pow(LX,2) + pow(LY,2))\n",
    "                \n",
    "                # Calculo el flujo\n",
    "                Flujo = ((Ui[VCel_v] - Ui[VCel]) / BaBoDist) * Longitud[Lad] * Difu\n",
    "                Flu.append(Flujo)\n",
    "\n",
    "        #Concentración en la celda\n",
    "        UCelda = Ui[VCel] + (dt * sum(Flu)) / Area[VCel] \n",
    "\n",
    "        #Agregar concentración al arreglo\n",
    "        Concentr.append(UCelda)\n",
    "        \n",
    "        \n",
    "        \n",
    "    #Agregar concentración al historico de la evolución del tiempo\n",
    "    Ui = Concentr\n",
    "    HT.append(Ui)\n",
    "\n",
    "\n",
    "#CSV\n",
    "\n",
    "Diff = pd.DataFrame(HT)\n",
    "print(Diff)"
   ]
  },
  {
   "cell_type": "markdown",
   "id": "emerging-breeding",
   "metadata": {},
   "source": [
    "## Gráfica"
   ]
  },
  {
   "cell_type": "code",
   "execution_count": 10,
   "id": "intensive-creek",
   "metadata": {},
   "outputs": [
    {
     "data": {
      "image/png": "[encoded data removed]",
      "text/plain": [
       "<Figure size 432x288 with 1 Axes>"
      ]
     },
     "metadata": {
      "needs_background": "light"
     },
     "output_type": "display_data"
    }
   ],
   "source": [
    "plt.plot(Diff)\n",
    "plt.show()"
   ]
  },
  {
   "cell_type": "markdown",
   "id": "medieval-aircraft",
   "metadata": {},
   "source": [
    "## Mapa de calor"
   ]
  },
  {
   "cell_type": "code",
   "execution_count": 11,
   "id": "prepared-processing",
   "metadata": {},
   "outputs": [
    {
     "data": {
      "image/png": "[encoded data removed]",
      "text/plain": [
       "<Figure size 2160x1080 with 2 Axes>"
      ]
     },
     "metadata": {
      "needs_background": "light"
     },
     "output_type": "display_data"
    }
   ],
   "source": [
    "plt.figure(figsize =(30,15))\n",
    "mapa = sns.heatmap(Diff,cmap='coolwarm')\n",
    "figure = mapa.get_figure()\n",
    "figure.savefig('mapa_calor.png',dpi=400)\n",
    "plt.xlabel('Celdas')\n",
    "plt.ylabel('Tiempo')\n",
    "plt.show()"
   ]
  }
 ],
 "metadata": {
  "kernelspec": {
   "display_name": "Python 3",
   "language": "python",
   "name": "python3"
  },
  "language_info": {
   "codemirror_mode": {
    "name": "ipython",
    "version": 3
   },
   "file_extension": ".py",
   "mimetype": "text/x-python",
   "name": "python",
   "nbconvert_exporter": "python",
   "pygments_lexer": "ipython3",
   "version": "3.7.9"
  }
 },
 "nbformat": 4,
 "nbformat_minor": 5
}
