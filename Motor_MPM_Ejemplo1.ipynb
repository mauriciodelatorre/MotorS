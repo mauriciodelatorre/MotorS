{
 "cells": [
  {
   "cell_type": "markdown",
   "id": "unauthorized-collar",
   "metadata": {},
   "source": [
    "# Programa para calcular difusión, con malla triangular\n",
    "\n",
    "## Queremos calcular la difusión evaluando la siguiente ecuación:\n",
    "### $$u_i^{n+1}= u_1^n - \\frac{dt}{Area_i}\\sum D_f \\frac{u_j -u_i}{\\delta_f} - \\frac{dt}{Area_i}\\sum D_B \\frac{u_B -u_i}{\\delta_B}  $$\n"
   ]
  },
  {
   "cell_type": "code",
   "execution_count": 1,
   "id": "alike-butter",
   "metadata": {},
   "outputs": [],
   "source": [
    "import numpy as np\n",
    "import openmesh as om\n",
    "import pandas as pd\n",
    "import matplotlib.pyplot as plt\n",
    "import matplotlib.ticker as ticker \n",
    "import seaborn as sns  #graficar datos de pandas\n",
    "from pylab import savefig\n"
   ]
  },
  {
   "cell_type": "markdown",
   "id": "sexual-surname",
   "metadata": {},
   "source": [
    "##  Creamos la malla:\n",
    "### - Cordenadas de los vertices\n",
    "### - Celdas (compuestas por tres vertices)"
   ]
  },
  {
   "cell_type": "code",
   "execution_count": 2,
   "id": "abstract-authority",
   "metadata": {},
   "outputs": [],
   "source": [
    "\n",
    "mesh = om.TriMesh()\n",
    "\n",
    "\n",
    "vh0 = mesh.add_vertex([0, 0, 0])\n",
    "vh1 = mesh.add_vertex([0, 6, 0])\n",
    "vh2 = mesh.add_vertex([0, 12, 0])\n",
    "vh3 = mesh.add_vertex([8, 12, 0])\n",
    "vh4 = mesh.add_vertex([16, 12, 0])\n",
    "vh5 = mesh.add_vertex([16, 5, 0])\n",
    "vh6 = mesh.add_vertex([16, 0, 0])\n",
    "vh7 = mesh.add_vertex([6, 0, 0])\n",
    "\n",
    "vh8 = mesh.add_vertex([4, 4, 0])\n",
    "vh9 = mesh.add_vertex([9, 4, 0])\n",
    "vh10 = mesh.add_vertex([10, 6, 0])\n",
    "\n",
    "#Celdas\n",
    "fh0 = mesh.add_face(vh0, vh8, vh1)\n",
    "fh1 = mesh.add_face(vh9, vh1, vh8)\n",
    "fh2 = mesh.add_face(vh2, vh1, vh9)\n",
    "fh3 = mesh.add_face(vh3, vh2, vh9)\n",
    "fh4 = mesh.add_face(vh10, vh3, vh9)\n",
    "fh5 = mesh.add_face(vh4, vh3, vh10)\n",
    "fh6 = mesh.add_face(vh5, vh4, vh10)\n",
    "fh7 = mesh.add_face(vh8, vh0, vh7)\n",
    "fh8 = mesh.add_face(vh10, vh8, vh7)\n",
    "fh9 = mesh.add_face(vh6, vh10, vh7)\n",
    "fh10 = mesh.add_face(vh5, vh10, vh6)\n",
    "fh11 = mesh.add_face(vh8, vh10, vh9)\n",
    "\n",
    "#Generar archivo\n",
    "om.write_mesh('test.off', mesh)\n",
    "mesh_2 = om.read_trimesh('test.off')\n"
   ]
  },
  {
   "cell_type": "markdown",
   "id": "dynamic-spiritual",
   "metadata": {},
   "source": [
    "## Datos relevantes:\n",
    "### - Indice\n",
    "### - Celdas vecinas\n",
    "### - Lados correspondientes"
   ]
  },
  {
   "cell_type": "code",
   "execution_count": 3,
   "id": "rolled-hudson",
   "metadata": {},
   "outputs": [
    {
     "name": "stdout",
     "output_type": "stream",
     "text": [
      "El numero de caras es:  12\n"
     ]
    }
   ],
   "source": [
    "#Vertices correspondientes a cada celda\n",
    "for vh in mesh.vertices():    \n",
    "    v = mesh.point(vh)\n",
    "    #print(v)\n",
    "\n",
    "#Número de interfaces (lados)\n",
    "Int = 0\n",
    "for eh in mesh.edges(): #eh = interfaces\n",
    "    Int = Int + 1  \n",
    "\n",
    "#print('La cantidad de interfaces es:',Int)\n",
    "\n",
    "#Información por cada celda\n",
    "for fh in mesh.faces():  \n",
    "    index = fh.idx() \n",
    "    #print(\"Cara: \",index)\n",
    "    \n",
    "    #Recorrer los vertices de cada cara y mostrar sus indices\n",
    "    for vh in mesh.fv(fh):\n",
    "        indx = vh.idx() \n",
    "        #print(indx)\n",
    "    #Mostrar las celdas vecinas    \n",
    "    for fh in mesh.ff(fh):\n",
    "        VCel = fh.idx() \n",
    "        #print(VCel)\n",
    "    #mostrar los lados correspondientes a cada celda    \n",
    "    for eh in mesh.fe(fh):\n",
    "        Lad = eh.idx()\n",
    "        #print('Lados',Lad)\n",
    "\n",
    "        \n",
    "print('El numero de caras es: ', index +1)      "
   ]
  },
  {
   "cell_type": "markdown",
   "id": "banned-guess",
   "metadata": {},
   "source": [
    "## Generar arreglos vacios para utilizarlos posteriormente"
   ]
  },
  {
   "cell_type": "code",
   "execution_count": 4,
   "id": "hundred-significance",
   "metadata": {},
   "outputs": [],
   "source": [
    "#longitud de los lados\n",
    "Longitud = np.zeros(Int)\n",
    "\n",
    "#Áreas de las celdas\n",
    "Area = []\n",
    "\n",
    "#Centros de cada lado (Coordenada horizontal y vertical)\n",
    "Centrox  = np.zeros(Int)\n",
    "Centroy  = np.zeros(Int)\n",
    "\n",
    "#Baricentros de las celdas (Coordenada horizontal y vertical) \n",
    "BariX = []\n",
    "BariY = []\n",
    "\n",
    "#Normales (Coordenada horizontal y vertical) \n",
    "NormalX = []\n",
    "NormalY = []\n",
    "\n",
    "#Distancia centro de las celda a centro de los lados\n",
    "DCenLad = []\n",
    "\n",
    "#Distancia nodos a centro de las celdas\n",
    "DNodoCel = np.zeros((index-1,index+1))\n",
    "\n",
    "#Relacion celda y sus bordes\n",
    "CelBord = np.zeros((index +1,3))\n",
    "\n",
    "#Relacion celda a celdas vecinas\n",
    "CelCels = np.zeros((index +1,3))\n",
    "\n",
    "#Relacion celda vertices\n",
    "CelVer = np.zeros((index +1,3))\n",
    "\n",
    "#Sumatoria de los inversos de las distancias nodo - centro (parte del método de volumenes finitos)\n",
    "Suminv = []"
   ]
  },
  {
   "cell_type": "markdown",
   "id": "stupid-taxation",
   "metadata": {},
   "source": [
    "## Cálculos de:\n",
    "- Longitud\n",
    "- Área\n",
    "- Distancia"
   ]
  },
  {
   "cell_type": "code",
   "execution_count": 5,
   "id": "prerequisite-virgin",
   "metadata": {},
   "outputs": [],
   "source": [
    "#fh para Recorrer todas las celdas\n",
    "for fh in mesh.faces():\n",
    "    VCel = fh.idx()\n",
    "\n",
    "    #Arreglos para guardas las coordenas x,y de los vertices\n",
    "    VeX = [] \n",
    "    VeY = [] \n",
    "    \n",
    "    #dentro de cada celda recorrer los vertices\n",
    "    for vh in mesh.fv(fh):\n",
    "        P = mesh.point(vh)\n",
    "        XX = P[0] \n",
    "        YY = P[1]\n",
    "        VeX.append(XX)\n",
    "        VeY.append(YY)       \n",
    "\n",
    "       \n",
    "    #baricentro de cada celda\n",
    "    baX = sum(VeX)/3\n",
    "    baY = sum(VeY)/3\n",
    "    \n",
    "    #Guardar baricentros en el arreglo\n",
    "    BariX.append(baX)\n",
    "    BariY.append(baY)\n",
    "\n",
    "    #área de las celdas\n",
    "    Area_i = VeX[0] * (VeY[2] - VeY[1]) + VeX[1] * (VeY[0] - VeY[2]) + VeX[2] * (VeY[1] - VeY[0])\n",
    "    Area_i = 0.5 * np.absolute(Area_i)\n",
    "    \n",
    "    #guardar áreas en el arreglo\n",
    "    Area.append(Area_i)\n",
    "\n",
    "    #Arreglo para el cálculo distancia centro celda - centro lado\n",
    "    DistCelLad = []\n",
    "\n",
    "    #contador auxiliar (lados)\n",
    "    Cont = 0\n",
    "\n",
    "    #arreglo para guardar normales\n",
    "    xNormal = []\n",
    "    yNormal = []\n",
    "\n",
    "    #dentro de cada celda recorrer los lados\n",
    "    for eh in mesh.fe(fh):\n",
    "        #calcular longitud de los lados\n",
    "        Lad = eh.idx()\n",
    "        LX = VeX[Cont -1] - VeX[Cont]\n",
    "        LY = VeY[Cont -1] - VeY[Cont]\n",
    "\n",
    "        #punto medio de cada lado (coordenada x e y)\n",
    "        MedX = (VeX[Cont - 1] + VeX[Cont])*0.5\n",
    "        MedY = (VeY[Cont - 1] + VeY[Cont])*0.5\n",
    "        \n",
    "        #arreglo para guardar los puntos medios\n",
    "        Centrox[Lad] = MedX\n",
    "        Centroy[Lad] = MedY\n",
    "        \n",
    "        #longitud de los segmentos (fórmula de distancia)\n",
    "        distancia = np.sqrt(pow(LX,2) + pow(LY,2))\n",
    "        Longitud[Lad] = distancia \n",
    "\n",
    "        #distancia baricentro a centro de los segmento (lados)\n",
    "        dbsX = BariX[VCel] - MedX\n",
    "        dbsY = BariY[VCel] - MedY\n",
    "        distanciaBS = np.sqrt(pow(dbsX,2) + pow(dbsY,2))\n",
    "\n",
    "        DistCelLad.append(distanciaBS)\n",
    "\n",
    "        #tangente unitaria\n",
    "        tx = -LX / distancia\n",
    "        ty = -LY / distancia\n",
    "        \n",
    "        # normal unitaria\n",
    "        xNormal.append(ty)\n",
    "        yNormal.append(-tx)\n",
    "        \n",
    "        Cont = Cont + 1\n",
    "    \n",
    "\n",
    "    #agregar al arreglo las 3 normales de cada celda\n",
    "    NormalX.append(xNormal)\n",
    "    NormalY.append(yNormal)\n",
    "\n",
    "    #agregar al arreglo la distancia de centro a centro\n",
    "    DCenLad.append(DistCelLad)\n",
    "\n",
    "#obtenemos los maximos y los minimos de los centros de los bordes, util para determinar si se trata de un borde frontera\n",
    "MinX = np.amin(Centrox)\n",
    "MinY = np.amin(Centroy)\n",
    "MaxX = np.amax(Centrox)\n",
    "MaxY = np.amax(Centroy)"
   ]
  },
  {
   "cell_type": "markdown",
   "id": "local-marketing",
   "metadata": {},
   "source": [
    "## Agregar vector tiempo"
   ]
  },
  {
   "cell_type": "code",
   "execution_count": 6,
   "id": "pharmaceutical-attack",
   "metadata": {},
   "outputs": [],
   "source": [
    "# tamaño del vector de tiempo\n",
    "Tiemp = 25\n",
    "\n",
    "# Arreglo de tiempo\n",
    "Time = np.linspace(0,Tiemp,1)\n",
    "\n",
    "dt = 1 / Tiemp"
   ]
  },
  {
   "cell_type": "markdown",
   "id": "miniature-ceremony",
   "metadata": {},
   "source": [
    "## Información de conectividad\n",
    "### Información sobre lados-frontera"
   ]
  },
  {
   "cell_type": "code",
   "execution_count": 7,
   "id": "simplified-commerce",
   "metadata": {},
   "outputs": [
    {
     "name": "stdout",
     "output_type": "stream",
     "text": [
      "[0. 0. 1. 0. 0. 1. 0. 1. 0. 0. 0. 1. 0. 1. 0. 1. 0. 0. 0. 0. 1. 1.]\n"
     ]
    }
   ],
   "source": [
    "#arreglo para los lados\n",
    "InLad = np.zeros(Int)\n",
    "\n",
    "for eh in mesh.edges(): \n",
    "    Lad = eh.idx()\n",
    "    InLad[Lad] = Lad\n",
    "    \n",
    "    \n",
    "# auxiliar que guarda si un lado corresponde a una frontera del dominio\n",
    "AuxLad = np.zeros(Int)\n",
    "\n",
    "#Recorrer las celdas \n",
    "for fh in mesh.faces():\n",
    "    VCel = fh.idx()\n",
    "    #auciliar para las celdas\n",
    "    ACel = []\n",
    "    #auxiliar para fronteras\n",
    "    Fronter = []\n",
    "    \n",
    "    \n",
    "    index = 0\n",
    "    \n",
    "    #recorrer los bordes para verificar si corresponden a fronteras\n",
    "    for eh in mesh.fe(fh): \n",
    "        Lad = eh.idx()\n",
    "        valueX = Centrox[Lad]\n",
    "        valueY = Centroy[Lad]\n",
    "        CelBord[VCel, index] = Lad\n",
    "\n",
    "        if valueX == MaxX or valueX == MinX or valueY == MaxY or valueY == MinY:\n",
    "            #evaluo la condicion de frontera\n",
    "            Fronter.append(1)\n",
    "            AuxLad[Lad] = 1\n",
    "        else:\n",
    "            Fronter.append(0)\n",
    "            AuxLad[Lad] = 0\n",
    "        index = index + 1\n",
    "        \n",
    "    #Ver relacion entre una celda y sus bordes   \n",
    "    #print(VCel, Fronter)  \n",
    "    \n",
    "\n",
    "    for fh in mesh.ff(fh):\n",
    "        VCel_v = fh.idx()\n",
    "        ACel.append(VCel_v)\n",
    "    \n",
    "    #Arreglo de celdas y sus vecinos\n",
    "    index = 0\n",
    "    \n",
    "    #recorrer el auxiliar\n",
    "    Audx = 0 \n",
    "    for value in Fronter:  \n",
    "        if value == 1:\n",
    "            aux = int(-1)\n",
    "            CelCels[VCel, index] = aux\n",
    "        else:\n",
    "            CelCels[VCel, index] = ACel[Audx]\n",
    "            Audx = Audx + 1\n",
    "        index = index + 1\n",
    "    \n",
    "    # OBTENEMOS LA MATRIZ DE LINK DE LA CELDA CON SUS VERTICES\n",
    "    index = 0\n",
    "    for vh in mesh.fv(fh):\n",
    "        Celve = vh.idx()\n",
    "        CelVer[VCel,index] = Celve\n",
    "        index = index + 1\n",
    "      \n",
    "\n",
    "    \n",
    "#lados frontera\n",
    "print(AuxLad) "
   ]
  },
  {
   "cell_type": "markdown",
   "id": "desirable-marine",
   "metadata": {},
   "source": [
    "## Ingresar condiciones iniciales: \n"
   ]
  },
  {
   "cell_type": "code",
   "execution_count": 8,
   "id": "proper-coordinate",
   "metadata": {},
   "outputs": [],
   "source": [
    "#contentracion inicial por cada celda\n",
    "Ui = [24,30,25,35,37,42,29,36,33,28,31,29]\n",
    "\n",
    "#evolucion en el tiempo\n",
    "HT = []\n",
    "HT.append(Ui)\n",
    "\n",
    "#concentracion en el borde (debe ser constante)\n",
    "UF = 1\n",
    "\n",
    "#Difusión\n",
    "Difu = 1"
   ]
  },
  {
   "cell_type": "markdown",
   "id": "actual-weekly",
   "metadata": {},
   "source": [
    "## Ecuación "
   ]
  },
  {
   "cell_type": "code",
   "execution_count": 9,
   "id": "perfect-atlanta",
   "metadata": {},
   "outputs": [
    {
     "name": "stdout",
     "output_type": "stream",
     "text": [
      "           0          1          2          3          4          5   \\\n",
      "0   24.000000  30.000000  25.000000  35.000000  37.000000  42.000000   \n",
      "1   23.806871  29.732465  25.029068  34.839654  36.985391  41.657404   \n",
      "2   23.612732  29.486119  25.055646  34.681321  36.962814  41.319437   \n",
      "3   23.417892  29.258883  25.079854  34.524939  36.932683  40.985995   \n",
      "4   23.222632  29.048873  25.101804  34.370452  36.895392  40.656975   \n",
      "5   23.027207  28.854378  25.121598  34.217803  36.851322  40.332279   \n",
      "6   22.831845  28.673849  25.139331  34.066941  36.800838  40.011812   \n",
      "7   22.636756  28.505883  25.155093  33.917814  36.744289  39.695481   \n",
      "8   22.442127  28.349208  25.168965  33.770373  36.682009  39.383196   \n",
      "9   22.248129  28.202669  25.181024  33.624571  36.614318  39.074871   \n",
      "10  22.054914  28.065225  25.191340  33.480364  36.541524  38.770422   \n",
      "11  21.862620  27.935930  25.199979  33.337709  36.463918  38.469768   \n",
      "12  21.671371  27.813929  25.207004  33.196564  36.381780  38.172829   \n",
      "13  21.481277  27.698448  25.212473  33.056890  36.295378  37.879529   \n",
      "14  21.292439  27.588788  25.216438  32.918647  36.204967  37.589795   \n",
      "15  21.104944  27.484315  25.218951  32.781800  36.110789  37.303555   \n",
      "16  20.918871  27.384458  25.220059  32.646314  36.013078  37.020738   \n",
      "17  20.734290  27.288701  25.219806  32.512153  35.912054  36.741278   \n",
      "18  20.551264  27.196578  25.218236  32.379286  35.807929  36.465108   \n",
      "19  20.369845  27.107668  25.215387  32.247681  35.700904  36.192166   \n",
      "20  20.190082  27.021592  25.211297  32.117307  35.591169  35.922390   \n",
      "21  20.012016  26.938008  25.206002  31.988136  35.478908  35.655719   \n",
      "22  19.835682  26.856609  25.199534  31.860139  35.364294  35.392096   \n",
      "23  19.661110  26.777118  25.191927  31.733290  35.247491  35.131464   \n",
      "24  19.488326  26.699286  25.183209  31.607561  35.128657  34.873768   \n",
      "25  19.317351  26.622890  25.173410  31.482927  35.007941  34.618955   \n",
      "\n",
      "           6          7          8          9          10         11  \n",
      "0   29.000000  36.000000  33.000000  28.000000  31.000000  29.000000  \n",
      "1   28.901776  35.394864  32.891359  27.877397  30.793916  29.147130  \n",
      "2   28.802563  34.803897  32.782742  27.755143  30.590135  29.279715  \n",
      "3   28.702406  34.226718  32.674053  27.633245  30.388616  29.398812  \n",
      "4   28.601350  33.662956  32.565208  27.511711  30.189317  29.505386  \n",
      "5   28.499435  33.112252  32.456138  27.390548  29.992197  29.600322  \n",
      "6   28.396704  32.574259  32.346787  27.269760  29.797219  29.684429  \n",
      "7   28.293196  32.048638  32.237106  27.149353  29.604342  29.758449  \n",
      "8   28.188951  31.535061  32.127058  27.029330  29.413530  29.823062  \n",
      "9   28.084006  31.033211  32.016615  26.909695  29.224746  29.878892  \n",
      "10  27.978397  30.542779  31.905753  26.790451  29.037955  29.926511  \n",
      "11  27.872161  30.063467  31.794457  26.671600  28.853120  29.966447  \n",
      "12  27.765331  29.594982  31.682717  26.553144  28.670209  29.999184  \n",
      "13  27.657942  29.137043  31.570528  26.435085  28.489187  30.025169  \n",
      "14  27.550025  28.689376  31.457889  26.317424  28.310022  30.044813  \n",
      "15  27.441613  28.251715  31.344803  26.200163  28.132681  30.058496  \n",
      "16  27.332736  27.823801  31.231275  26.083302  27.957134  30.066568  \n",
      "17  27.223423  27.405383  31.117315  25.966843  27.783350  30.069355  \n",
      "18  27.113704  26.996218  31.002934  25.850785  27.611298  30.067156  \n",
      "19  27.003607  26.596069  30.888145  25.735129  27.440950  30.060250  \n",
      "20  26.893159  26.204704  30.772963  25.619876  27.272277  30.048896  \n",
      "21  26.782386  25.821901  30.657404  25.505026  27.105251  30.033334  \n",
      "22  26.671314  25.447442  30.541487  25.390578  26.939843  30.013788  \n",
      "23  26.559968  25.081116  30.425230  25.276534  26.776029  29.990466  \n",
      "24  26.448372  24.722717  30.308652  25.162893  26.613781  29.963563  \n",
      "25  26.336550  24.372045  30.191773  25.049655  26.453073  29.933260  \n"
     ]
    }
   ],
   "source": [
    "for t in range(Tiemp):\n",
    "    \n",
    "    #Crear auxiliar para la concentración\n",
    "    Concentr = []\n",
    "\n",
    "    for fh in mesh.faces():\n",
    "        \n",
    "        VCel = fh.idx()\n",
    "\n",
    "        #Arreglo que almacena los flujos de cada celda\n",
    "        Flu = []\n",
    "\n",
    "        #recorrer los lados (3)\n",
    "        for i in range(3): \n",
    "            \n",
    "            #Indice del lado y de la celda vecina\n",
    "            Lad = int(CelBord[VCel, i])\n",
    "            VCel_v = int(CelCels[VCel, i])\n",
    "            \n",
    "            #Indices de los vertices\n",
    "            a = VeX[i]\n",
    "            b = VeY[i-1]\n",
    "            \n",
    "            \n",
    "            #Verificar si el lado de la celda corresponde a una frontera del dominio\n",
    "            if VCel_v == -1:\n",
    "               \n",
    "                #Distancia entre el baricentro y el centro del borde de frontera\n",
    "                LX = BariX[VCel] - Centrox[Lad]\n",
    "                LY = BariY[VCel] - Centroy[Lad]\n",
    "                BaBoDist = np.sqrt(pow(LX,2) + pow(LY,2))\n",
    "                \n",
    "                # Calculo el flujo\n",
    "                Flujo = ((UF - Ui[VCel]) / BaBoDist) * Longitud[Lad] * Difu\n",
    "                Flu.append(Flujo)\n",
    "\n",
    "            else:\n",
    "                #Distancia entre los baricentros\n",
    "                v = BariX[VCel] - BariX[VCel_v]\n",
    "                LY = BariY[VCel] - BariY[VCel_v]       \n",
    "                BaBoDist = np.sqrt(pow(LX,2) + pow(LY,2))\n",
    "                \n",
    "                # Calculo el flujo\n",
    "                Flujo = ((Ui[VCel_v] - Ui[VCel]) / BaBoDist) * Longitud[Lad] * Difu\n",
    "                Flu.append(Flujo)\n",
    "\n",
    "        #Concentración en la celda\n",
    "        UCelda = Ui[VCel] + (dt * sum(Flu)) / Area[VCel] \n",
    "\n",
    "        #Agregar concentración al arreglo\n",
    "        Concentr.append(UCelda)\n",
    "        \n",
    "        \n",
    "        \n",
    "    #Agregar concentración al historico de la evolución del tiempo\n",
    "    Ui = Concentr\n",
    "    HT.append(Ui)\n",
    "\n",
    "\n",
    "#CSV\n",
    "\n",
    "Diff = pd.DataFrame(HT)\n",
    "print(Diff)"
   ]
  },
  {
   "cell_type": "markdown",
   "id": "emerging-breeding",
   "metadata": {},
   "source": [
    "## Gráfica"
   ]
  },
  {
   "cell_type": "code",
   "execution_count": 10,
   "id": "intensive-creek",
   "metadata": {},
   "outputs": [
    {
     "data": {
      "image/png": "[encoded data removed]",
      "text/plain": [
       "<Figure size 432x288 with 1 Axes>"
      ]
     },
     "metadata": {
      "needs_background": "light"
     },
     "output_type": "display_data"
    }
   ],
   "source": [
    "plt.plot(Diff)\n",
    "plt.show()"
   ]
  },
  {
   "cell_type": "markdown",
   "id": "medieval-aircraft",
   "metadata": {},
   "source": [
    "## Mapa de calor"
   ]
  },
  {
   "cell_type": "code",
   "execution_count": 11,
   "id": "prepared-processing",
   "metadata": {},
   "outputs": [
    {
     "data": {
      "image/png": "[encoded data removed]",
      "text/plain": [
       "<Figure size 2160x1080 with 2 Axes>"
      ]
     },
     "metadata": {
      "needs_background": "light"
     },
     "output_type": "display_data"
    }
   ],
   "source": [
    "plt.figure(figsize =(30,15))\n",
    "mapa = sns.heatmap(Diff,cmap='coolwarm')\n",
    "figure = mapa.get_figure()\n",
    "figure.savefig('mapa_calor.png',dpi=400)\n",
    "plt.xlabel('Celdas')\n",
    "plt.ylabel('Tiempo')\n",
    "plt.show()"
   ]
  }
 ],
 "metadata": {
  "kernelspec": {
   "display_name": "Python 3",
   "language": "python",
   "name": "python3"
  },
  "language_info": {
   "codemirror_mode": {
    "name": "ipython",
    "version": 3
   },
   "file_extension": ".py",
   "mimetype": "text/x-python",
   "name": "python",
   "nbconvert_exporter": "python",
   "pygments_lexer": "ipython3",
   "version": "3.7.9"
  }
 },
 "nbformat": 4,
 "nbformat_minor": 5
}
